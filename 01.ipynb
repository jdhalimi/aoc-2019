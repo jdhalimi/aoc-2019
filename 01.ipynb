{
 "cells": [
  {
   "cell_type": "markdown",
   "metadata": {},
   "source": [
    "# Advent Of Code"
   ]
  },
  {
   "cell_type": "markdown",
   "metadata": {},
   "source": [
    "## Day 1"
   ]
  },
  {
   "cell_type": "code",
   "execution_count": 1,
   "metadata": {},
   "outputs": [],
   "source": [
    "def f(x):\n",
    "    return x // 3 - 2\n"
   ]
  },
  {
   "cell_type": "code",
   "execution_count": 2,
   "metadata": {},
   "outputs": [
    {
     "name": "stdout",
     "output_type": "stream",
     "text": [
      "2\n",
      "2\n",
      "654\n",
      "33583\n"
     ]
    }
   ],
   "source": [
    "for x in (12, 14, 1969, 100756):\n",
    "    print (f(x))\n",
    "    "
   ]
  },
  {
   "cell_type": "code",
   "execution_count": 3,
   "metadata": {},
   "outputs": [
    {
     "data": {
      "text/plain": [
       "3576689"
      ]
     },
     "execution_count": 3,
     "metadata": {},
     "output_type": "execute_result"
    }
   ],
   "source": [
    "with open(\"01.txt\", \"rt\") as infile:\n",
    "    mass = [f(int(x)) for x in infile]\n",
    "sum(mass)"
   ]
  },
  {
   "cell_type": "code",
   "execution_count": 4,
   "metadata": {},
   "outputs": [],
   "source": [
    "def g(x):\n",
    "    s, y = 0, x\n",
    "    while(y > 0):\n",
    "        y = max(f(y), 0)\n",
    "        s += y \n",
    "    return s\n",
    "    "
   ]
  },
  {
   "cell_type": "code",
   "execution_count": 5,
   "metadata": {},
   "outputs": [
    {
     "data": {
      "text/plain": [
       "5362136"
      ]
     },
     "execution_count": 5,
     "metadata": {},
     "output_type": "execute_result"
    }
   ],
   "source": [
    "with open(\"01.txt\", \"rt\") as infile:\n",
    "    mass = [g(int(x)) for x in infile]\n",
    "sum(mass)"
   ]
  },
  {
   "cell_type": "markdown",
   "metadata": {},
   "source": [
    "## Day 2"
   ]
  },
  {
   "cell_type": "code",
   "execution_count": 12,
   "metadata": {},
   "outputs": [],
   "source": [
    "import os\n",
    "import numpy as np\n",
    "\n",
    "def load(filename):\n",
    "    return np.array([int(x) for x in  open(filename, \"rt\").read().split(',')])\n",
    "\n",
    "def compute(program, noun, verb):\n",
    "    a = program.copy()\n",
    "    a[1], a[2] = noun, verb\n",
    "\n",
    "    ip = 0\n",
    "    while True:\n",
    "        o = a[ip]\n",
    "        if o == 99:\n",
    "            ip += 1\n",
    "            break\n",
    "        elif o == 1:\n",
    "            x, y, n = a[ip + 1 : ip + 4]\n",
    "            ip += 4\n",
    "            a[n] = a[x] + a[y]\n",
    "        elif o == 2:\n",
    "            x, y, n = a[ip + 1 : ip + 4]\n",
    "            ip += 4\n",
    "            a[n] = a[x] * a[y]\n",
    "        else:\n",
    "            raise RuntimeError\n",
    "    return a[0]\n",
    "\n"
   ]
  },
  {
   "cell_type": "markdown",
   "metadata": {},
   "source": [
    "### Part 1"
   ]
  },
  {
   "cell_type": "code",
   "execution_count": 11,
   "metadata": {},
   "outputs": [
    {
     "name": "stdout",
     "output_type": "stream",
     "text": [
      "3706713\n"
     ]
    }
   ],
   "source": [
    "filename = os.path.join(os.path.abspath(os.curdir), \"02.txt\")\n",
    "prog = load(filename)\n",
    "print(compute(prog, 12, 2))"
   ]
  },
  {
   "cell_type": "markdown",
   "metadata": {},
   "source": [
    "### Part 2"
   ]
  },
  {
   "cell_type": "code",
   "execution_count": 14,
   "metadata": {},
   "outputs": [
    {
     "name": "stdout",
     "output_type": "stream",
     "text": [
      "8609\n"
     ]
    }
   ],
   "source": [
    "filename = os.path.join(os.path.abspath(os.curdir), \"02.txt\")\n",
    "prog = load(filename)\n",
    "for n in range(100):\n",
    "    for v in range(100):\n",
    "        if compute(prog, n, v) == 19690720:\n",
    "            print(100 * n + v)\n",
    "            break"
   ]
  },
  {
   "cell_type": "code",
   "execution_count": null,
   "metadata": {},
   "outputs": [],
   "source": []
  }
 ],
 "metadata": {
  "kernelspec": {
   "display_name": "Python 3",
   "language": "python",
   "name": "python3"
  },
  "language_info": {
   "codemirror_mode": {
    "name": "ipython",
    "version": 3
   },
   "file_extension": ".py",
   "mimetype": "text/x-python",
   "name": "python",
   "nbconvert_exporter": "python",
   "pygments_lexer": "ipython3",
   "version": "3.8.0"
  }
 },
 "nbformat": 4,
 "nbformat_minor": 4
}
