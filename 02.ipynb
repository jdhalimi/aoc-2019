{
 "cells": [
  {
   "cell_type": "markdown",
   "metadata": {},
   "source": [
    "# Advent Of Code - Day 2"
   ]
  },
  {
   "cell_type": "code",
   "execution_count": 12,
   "metadata": {},
   "outputs": [],
   "source": [
    "import os\n",
    "import numpy as np\n",
    "\n",
    "def load(filename):\n",
    "    return np.array([int(x) for x in  open(filename, \"rt\").read().split(',')])\n",
    "\n",
    "def compute(program, noun, verb):\n",
    "    a = program.copy()\n",
    "    a[1], a[2] = noun, verb\n",
    "\n",
    "    ip = 0\n",
    "    while True:\n",
    "        o = a[ip]\n",
    "        if o == 99:\n",
    "            ip += 1\n",
    "            break\n",
    "        elif o == 1:\n",
    "            x, y, n = a[ip + 1 : ip + 4]\n",
    "            ip += 4\n",
    "            a[n] = a[x] + a[y]\n",
    "        elif o == 2:\n",
    "            x, y, n = a[ip + 1 : ip + 4]\n",
    "            ip += 4\n",
    "            a[n] = a[x] * a[y]\n",
    "        else:\n",
    "            raise RuntimeError\n",
    "    return a[0]\n",
    "\n"
   ]
  },
  {
   "cell_type": "markdown",
   "metadata": {},
   "source": [
    "### Part 1"
   ]
  },
  {
   "cell_type": "code",
   "execution_count": 11,
   "metadata": {},
   "outputs": [
    {
     "name": "stdout",
     "output_type": "stream",
     "text": [
      "3706713\n"
     ]
    }
   ],
   "source": [
    "filename = os.path.join(os.path.abspath(os.curdir), \"02.txt\")\n",
    "prog = load(filename)\n",
    "print(compute(prog, 12, 2))"
   ]
  },
  {
   "cell_type": "markdown",
   "metadata": {},
   "source": [
    "### Part 2"
   ]
  },
  {
   "cell_type": "code",
   "execution_count": 14,
   "metadata": {},
   "outputs": [
    {
     "name": "stdout",
     "output_type": "stream",
     "text": [
      "8609\n"
     ]
    }
   ],
   "source": [
    "filename = os.path.join(os.path.abspath(os.curdir), \"02.txt\")\n",
    "prog = load(filename)\n",
    "for n in range(100):\n",
    "    for v in range(100):\n",
    "        if compute(prog, n, v) == 19690720:\n",
    "            print(100 * n + v)\n",
    "            break"
   ]
  },
  {
   "cell_type": "code",
   "execution_count": null,
   "metadata": {},
   "outputs": [],
   "source": []
  }
 ],
 "metadata": {
  "kernelspec": {
   "display_name": "Python 3",
   "language": "python",
   "name": "python3"
  },
  "language_info": {
   "codemirror_mode": {
    "name": "ipython",
    "version": 3
   },
   "file_extension": ".py",
   "mimetype": "text/x-python",
   "name": "python",
   "nbconvert_exporter": "python",
   "pygments_lexer": "ipython3",
   "version": "3.8.0"
  }
 },
 "nbformat": 4,
 "nbformat_minor": 4
}
