{
 "cells": [
  {
   "cell_type": "markdown",
   "metadata": {},
   "source": [
    "# Advent Of Code - Day 3"
   ]
  },
  {
   "cell_type": "markdown",
   "metadata": {},
   "source": [
    "## Wires and Path"
   ]
  },
  {
   "cell_type": "code",
   "execution_count": 2,
   "metadata": {},
   "outputs": [],
   "source": [
    "def load(filename):\n",
    "    return[ l.split(',') for l in open(filename)]\n",
    "\n",
    "\n",
    "class Point:\n",
    "    def __init__(self, x, y):\n",
    "        self.x = x\n",
    "        self.y = y\n",
    "        \n",
    "    def __repr__(self):\n",
    "        return '{}:{}'.format(self.x, self.y)\n",
    "        \n",
    "class Wire:\n",
    "    DIRS = { 'R': (1, 0), 'D': (0, -1), 'L': (-1, 0), 'U': (0, 1) }\n",
    "\n",
    "    def __init__(self, wire):\n",
    "        self.x = 0\n",
    "        self.y = 0\n",
    "        self.dx = 0\n",
    "        self.dy = 0\n",
    "        self.instr = []\n",
    "        self.path = [Point(0, 0)]\n",
    "        for instr in wire:\n",
    "            self.move(instr)\n",
    "\n",
    "    def move(self, instr):\n",
    "        d, n = instr[0], int(instr[1:])\n",
    "        dx, dy = self.DIRS[d]\n",
    "        self.x += dx * n\n",
    "        self.y += dy * n\n",
    "        self.instr.append(instr)\n",
    "        self.path.append(Point(self.x, self.y))\n",
    "\n",
    "    def lines(self):\n",
    "        a = self.path[0]\n",
    "        for x in self.path[1:]:\n",
    "            b = x\n",
    "            p = a, x\n",
    "            a = x\n",
    "            yield p\n",
    "\n",
    "\n",
    "def manhattan(a, b):\n",
    "    xa, ya = a.x, a.y\n",
    "    xb, yb = b.x, b.y\n",
    "    return abs(xa - xb) + abs(ya - yb)\n",
    "\n",
    "\n",
    "def norm(a, b):\n",
    "    return manhattan(a, b)\n",
    "\n",
    "\n",
    "def cmp(a, b):\n",
    "    return (a>b)-(a<b)\n",
    "    \n",
    "\n",
    "def is_between(c, a, b):\n",
    "    return ((b.x - a.x) * (c.y - a.y) == (c.x - a.x) * (b.y - a.y) and \n",
    "            abs(cmp(a.x, c.x) + cmp(b.x, c.x)) <= 1 and\n",
    "            abs(cmp(a.y, c.y) + cmp(b.y, c.y)) <= 1)\n",
    "\n",
    "\n",
    "def intersect(a, b, c, d):\n",
    "    # a1x + b1y = c1\n",
    "    a1 = b.y - a.y\n",
    "    b1 = a.x - b.x\n",
    "    c1 = a1 * (a.x) + b1 * (a.y)\n",
    "\n",
    "    # a2x + b2y = c2\n",
    "    a2 = d.y - c.y\n",
    "    b2 = c.x - d.x\n",
    "    c2 = a2 * (c.x) + b2 * (c.y)\n",
    "\n",
    "    # determinant\n",
    "    det = a1 * b2 - a2 * b1\n",
    "\n",
    "    # parallel line\n",
    "    if det == 0:\n",
    "        return None\n",
    "\n",
    "    # intersect point(x,y)\n",
    "    x = ((b2 * c1) - (b1 * c2)) / det\n",
    "    y = ((a1 * c2) - (a2 * c1)) / det\n",
    "    \n",
    "    i = Point(int(x), int(y))\n",
    "    if is_between(i, a, b) and is_between(i, c, d):\n",
    "        return i\n",
    "    \n",
    "    return None\n",
    "    "
   ]
  },
  {
   "cell_type": "markdown",
   "metadata": {},
   "source": [
    "## Part 1"
   ]
  },
  {
   "cell_type": "code",
   "execution_count": 3,
   "metadata": {},
   "outputs": [],
   "source": [
    "wires = load(\"03a.txt\")\n",
    "\n",
    "w1 = Wire(wires[0])\n",
    "w2 = Wire(wires[1])\n",
    "\n",
    "s1 = [p for p in w1.lines()]\n",
    "s2 = [p for p in w2.lines()]\n"
   ]
  },
  {
   "cell_type": "code",
   "execution_count": 4,
   "metadata": {},
   "outputs": [
    {
     "name": "stdout",
     "output_type": "stream",
     "text": [
      "1431 -343:1088\n"
     ]
    }
   ],
   "source": [
    "o = Point(0, 0)\n",
    "min_distance = None\n",
    "min_intersection = None\n",
    "pp = None\n",
    "for x in s1:\n",
    "    for y in s2:\n",
    "        a, b = x\n",
    "        c, d = y\n",
    "        p = intersect(a, b, c, d)\n",
    "        if p:\n",
    "            n = manhattan(p, o)\n",
    "            if not min_distance or min_distance > n:\n",
    "                min_distance = n\n",
    "                min_intersection = p\n",
    "\n",
    "print(min_distance, min_intersection)"
   ]
  },
  {
   "cell_type": "markdown",
   "metadata": {},
   "source": [
    "## Part 2"
   ]
  },
  {
   "cell_type": "code",
   "execution_count": 5,
   "metadata": {},
   "outputs": [
    {
     "name": "stdout",
     "output_type": "stream",
     "text": [
      "48012 -1806:494\n"
     ]
    }
   ],
   "source": [
    "wires = load(\"03b.txt\")\n",
    "\n",
    "w1 = Wire(wires[0])\n",
    "w2 = Wire(wires[1])\n",
    "\n",
    "\n",
    "o = Point(0, 0)\n",
    "min_steps = None\n",
    "min_intersection = None\n",
    "steps_1 = 0\n",
    "steps_2 = 0\n",
    "pp = None\n",
    "for x in s1:\n",
    "    steps_2 = 0\n",
    "    a, b = x\n",
    "\n",
    "    for y in s2:\n",
    "        c, d = y\n",
    "        p = intersect(a, b, c, d)\n",
    "        if p:\n",
    "            \n",
    "            i_steps_1 = steps_1 + norm(a, p)\n",
    "            i_steps_2 = steps_2 + norm(c, p)\n",
    "            \n",
    "            n = i_steps_1 + i_steps_2\n",
    "            \n",
    "            if not min_steps or min_steps > n:\n",
    "                min_steps = n\n",
    "                min_intersection = p\n",
    "        \n",
    "        steps_2 += norm(c, d)\n",
    "        \n",
    "    steps_1 += norm(a, b)\n",
    "\n",
    "print(min_steps, min_intersection)\n"
   ]
  }
 ],
 "metadata": {
  "kernelspec": {
   "display_name": "Python 3",
   "language": "python",
   "name": "python3"
  },
  "language_info": {
   "codemirror_mode": {
    "name": "ipython",
    "version": 3
   },
   "file_extension": ".py",
   "mimetype": "text/x-python",
   "name": "python",
   "nbconvert_exporter": "python",
   "pygments_lexer": "ipython3",
   "version": "3.8.0"
  }
 },
 "nbformat": 4,
 "nbformat_minor": 4
}
