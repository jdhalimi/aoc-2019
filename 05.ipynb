{
 "cells": [
  {
   "cell_type": "markdown",
   "metadata": {},
   "source": [
    "# Advent Of Code - Day 5\n",
    "Sunny with a Chance of Asteroids"
   ]
  },
  {
   "cell_type": "markdown",
   "metadata": {},
   "source": [
    "\n",
    "\n",
    "You're starting to sweat as the ship makes its way toward Mercury. The Elves suggest that you get the air conditioner working by upgrading your ship computer to support the Thermal Environment Supervision Terminal.\n",
    "\n",
    "The Thermal Environment Supervision Terminal (TEST) starts by running a diagnostic program (your puzzle input). The TEST diagnostic program will run on your existing Intcode computer after a few modifications:\n",
    "\n",
    "First, you'll need to add two new instructions:\n",
    "\n",
    "- Opcode 3 takes a single integer as input and saves it to the position given by its only parameter. For example, the instruction 3,50 would take an input value and store it at address 50.\n",
    "- Opcode 4 outputs the value of its only parameter. For example, the instruction 4,50 would output the value at address 50.\n",
    "\n",
    "Programs that use these instructions will come with documentation that explains what should be connected to the input and output. The program 3,0,4,0,99 outputs whatever it gets as input, then halts.\n"
   ]
  },
  {
   "cell_type": "code",
   "execution_count": 42,
   "metadata": {},
   "outputs": [],
   "source": [
    "import os\n",
    "import numpy as np\n",
    "\n",
    "def load(filename):\n",
    "    return np.array([int(x) for x in  open(filename, \"rt\").read().split(',')])\n",
    "\n",
    "def compute(program, noun, verb):\n",
    "    a = program.copy()\n",
    "    a[1], a[2] = noun, verb\n",
    "\n",
    "    ip = 0\n",
    "    while True:\n",
    "        o = a[ip]\n",
    "        if o == 99:\n",
    "            ip += 1\n",
    "            break\n",
    "        elif o == 1:\n",
    "            # add\n",
    "            x, y, n = a[ip + 1 : ip + 4]\n",
    "            ip += 4\n",
    "            a[n] = a[x] + a[y]\n",
    "        elif o == 2:\n",
    "            # mult\n",
    "            x, y, n = a[ip + 1 : ip + 4]\n",
    "            ip += 4\n",
    "            a[n] = a[x] * a[y]\n",
    "        elif o == 3:\n",
    "            # input\n",
    "            n = a[ip + 1]\n",
    "            ip += 2\n",
    "        elif o == 4:\n",
    "            # output\n",
    "            n = a[ip + 1]\n",
    "            ip += 2\n",
    "        else:\n",
    "            \n",
    "            raise RuntimeError\n",
    "    return a[0]\n",
    "\n"
   ]
  },
  {
   "cell_type": "markdown",
   "metadata": {},
   "source": [
    "__Second__, you'll need to add support for parameter modes:\n",
    "\n",
    "Each parameter of an instruction is handled based on its parameter mode. Right now, your ship computer already understands parameter mode 0, position mode, which causes the parameter to be interpreted as a position - if the parameter is 50, its value is the value stored at address 50 in memory. Until now, all parameters have been in position mode.\n",
    "\n",
    "Now, your ship computer will also need to handle parameters in mode 1, immediate mode. In immediate mode, a parameter is interpreted as a value - if the parameter is 50, its value is simply 50.\n",
    "\n",
    "Parameter modes are stored in the same value as the instruction's opcode. The opcode is a two-digit number based only on the ones and tens digit of the value, that is, the opcode is the rightmost two digits of the first value in an instruction. Parameter modes are single digits, one per parameter, read right-to-left from the opcode: the first parameter's mode is in the hundreds digit, the second parameter's mode is in the thousands digit, the third parameter's mode is in the ten-thousands digit, and so on. Any missing modes are 0.\n",
    "\n",
    "For example, consider the program 1002,4,3,4,33.\n",
    "\n",
    "The first instruction, 1002,4,3,4, is a multiply instruction - the rightmost two digits of the first value, 02, indicate opcode 2, multiplication. Then, going right to left, the parameter modes are 0 (hundreds digit), 1 (thousands digit), and 0 (ten-thousands digit, not present and therefore zero):\n",
    "```\n",
    "ABCDE\n",
    " 1002\n",
    "\n",
    "DE - two-digit opcode,      02 == opcode 2\n",
    " C - mode of 1st parameter,  0 == position mode\n",
    " B - mode of 2nd parameter,  1 == immediate mode\n",
    " A - mode of 3rd parameter,  0 == position mode,\n",
    "                                  omitted due to being a leading zero\n",
    "````\n",
    "\n",
    "\n",
    "This instruction multiplies its first two parameters. The first parameter, 4 in position mode, works like it did before - its value is the value stored at address 4 (33). The second parameter, 3 in immediate mode, simply has value 3. The result of this operation, 33 * 3 = 99, is written according to the third parameter, 4 in position mode, which also works like it did before - 99 is written to address 4.\n",
    "\n",
    "Parameters that an instruction writes to will never be in immediate mode.\n",
    "\n",
    "Finally, some notes:\n",
    "\n",
    "It is important to remember that the instruction pointer should increase by the number of values in the instruction after the instruction finishes. Because of the new instructions, this amount is no longer always 4.\n",
    "Integers can be negative: 1101,100,-1,4,0 is a valid program (find 100 + -1, store the result in position 4).\n",
    "The TEST diagnostic program will start by requesting from the user the ID of the system to test by running an input instruction - provide it 1, the ID for the ship's air conditioner unit.\n",
    "\n",
    "It will then perform a series of diagnostic tests confirming that various parts of the Intcode computer, like parameter modes, function correctly. For each test, it will run an output instruction indicating how far the result of the test was from the expected value, where 0 means the test was successful. Non-zero outputs mean that a function is not working correctly; check the instructions that were run before the output instruction to see which one failed.\n",
    "\n",
    "Finally, the program will output a diagnostic code and immediately halt. This final output isn't an error; an output followed immediately by a halt means the program finished. If all outputs were zero except the diagnostic code, the diagnostic program ran successfully.\n",
    "\n",
    "After providing 1 to the only input instruction and passing all the tests, what diagnostic code does the program produce?\n",
    "``\n"
   ]
  },
  {
   "cell_type": "code",
   "execution_count": 43,
   "metadata": {},
   "outputs": [
    {
     "data": {
      "text/plain": [
       "(2, [1, 1, 0])"
      ]
     },
     "execution_count": 43,
     "metadata": {},
     "output_type": "execute_result"
    }
   ],
   "source": [
    "def split_operator(o):\n",
    "    op = o % 100\n",
    "    o = o // 100\n",
    "    m = []\n",
    "    for i in range(3):\n",
    "        m.append(o % 10)\n",
    "        o = o // 10\n",
    "    return op, m\n",
    "\n",
    "split_operator(1102)\n"
   ]
  },
  {
   "cell_type": "code",
   "execution_count": 44,
   "metadata": {},
   "outputs": [],
   "source": [
    "\n",
    "def compute(program, in_stack, out_stack):\n",
    "    a = program.copy()\n",
    "\n",
    "    ip = 0\n",
    "    while True:\n",
    "        o = a[ip]\n",
    "        o, m = split_operator(o)\n",
    "        if o == 99:\n",
    "            ip += 1\n",
    "            break\n",
    "        elif o == 1:\n",
    "            # add\n",
    "            x, y, n = a[ip + 1 : ip + 4]\n",
    "            x = x if m[0] else a[x]\n",
    "            y = y if m[1] else a[y]\n",
    "            ip += 4\n",
    "            a[n] = x + y\n",
    "        elif o == 2:\n",
    "            # mult\n",
    "            x, y, n = a[ip + 1 : ip + 4]\n",
    "            x = x if m[0] else a[x]\n",
    "            y = y if m[1] else a[y]\n",
    "            ip += 4\n",
    "            a[n] = x * y\n",
    "        elif o == 3:\n",
    "            # input\n",
    "            n = a[ip + 1]\n",
    "            a[n] = in_stack.pop()\n",
    "            ip += 2\n",
    "        elif o == 4:\n",
    "            # output\n",
    "            x = a[ip + 1]\n",
    "            x = x if m[0] else a[x]\n",
    "            out_stack.append(x)\n",
    "            ip += 2\n",
    "        else:\n",
    "            raise RuntimeError\n"
   ]
  },
  {
   "cell_type": "markdown",
   "metadata": {},
   "source": [
    "### Part 1"
   ]
  },
  {
   "cell_type": "code",
   "execution_count": 45,
   "metadata": {},
   "outputs": [
    {
     "data": {
      "text/plain": [
       "[0, 0, 0, 0, 0, 0, 0, 0, 0, 13087969]"
      ]
     },
     "execution_count": 45,
     "metadata": {},
     "output_type": "execute_result"
    }
   ],
   "source": [
    "\n",
    "prog = load(\"05.txt\")\n",
    "in_stack = [1]\n",
    "out_stack = []\n",
    "compute(prog, in_stack, out_stack)\n",
    "out_stack"
   ]
  },
  {
   "cell_type": "markdown",
   "metadata": {},
   "source": [
    "### Part 2\n",
    "\n",
    "The air conditioner comes online! Its cold air feels good for a while, but then the TEST alarms start to go off. Since the air conditioner can't vent its heat anywhere but back into the spacecraft, it's actually making the air inside the ship warmer.\n",
    "\n",
    "Instead, you'll need to use the TEST to extend the thermal radiators. Fortunately, the diagnostic program (your puzzle input) is already equipped for this. Unfortunately, your Intcode computer is not.\n",
    "\n",
    "Your computer is only missing a few opcodes:\n",
    "\n",
    "- Opcode 5 is jump-if-true: if the first parameter is non-zero, it sets the instruction pointer to the value from the second parameter. Otherwise, it does nothing.\n",
    "- Opcode 6 is jump-if-false: if the first parameter is zero, it sets the instruction pointer to the value from the second parameter. Otherwise, it does nothing.\n",
    "- Opcode 7 is less than: if the first parameter is less than the second parameter, it stores 1 in the position given by the third parameter. Otherwise, it stores 0.\n",
    "- Opcode 8 is equals: if the first parameter is equal to the second parameter, it stores 1 in the position given by the third parameter. Otherwise, it stores 0.\n",
    "\n",
    "Like all instructions, these instructions need to support parameter modes as described above.\n",
    "\n",
    "Normally, after an instruction is finished, the instruction pointer increases by the number of values in that instruction. However, if the instruction modifies the instruction pointer, that value is used and the instruction pointer is not automatically increased.\n",
    "\n",
    "For example, here are several programs that take one input, compare it to the value 8, and then produce one output:\n",
    "\n",
    "- 3,9,8,9,10,9,4,9,99,-1,8 - Using position mode, consider whether the input is equal to 8; output 1 (if it is) or 0 (if it is not).\n",
    "- 3,9,7,9,10,9,4,9,99,-1,8 - Using position mode, consider whether the input is less than 8; output 1 (if it is) or 0 (if it is not).\n",
    "- 3,3,1108,-1,8,3,4,3,99 - Using immediate mode, consider whether the input is equal to 8; output 1 (if it - is) or 0 (if it is not).\n",
    "- 3,3,1107,-1,8,3,4,3,99 - Using immediate mode, consider whether the input is less than 8; output 1 (if it is) or 0 (if it is not).\n",
    "\n",
    "Here are some jump tests that take an input, then output 0 if the input was zero or 1 if the input was non-zero:\n",
    "\n",
    "- 3,12,6,12,15,1,13,14,13,4,13,99,-1,0,1,9 (using position mode)\n",
    "- 3,3,1105,-1,9,1101,0,0,12,4,12,99,1 (using immediate mode)\n",
    "\n",
    "Here's a larger example:\n",
    "\n",
    "- 3,21,1008,21,8,20,1005,20,22,107,8,21,20,1006,20,31,\n",
    "- 1106,0,36,98,0,0,1002,21,125,20,4,20,1105,1,46,104,\n",
    "- 999,1105,1,46,1101,1000,1,20,4,20,1105,1,46,98,99\n",
    "\n",
    "The above example program uses an input instruction to ask for a single number. The program will then output 999 if the input value is below 8, output 1000 if the input value is equal to 8, or output 1001 if the input value is greater than 8.\n",
    "\n",
    "This time, when the TEST diagnostic program runs its input instruction to get the ID of the system to test, provide it 5, the ID for the ship's thermal radiator controller. This diagnostic test suite only outputs one number, the diagnostic code.\n",
    "\n",
    "What is the diagnostic code for system ID 5?\n",
    "\n",
    "\n"
   ]
  },
  {
   "cell_type": "code",
   "execution_count": 64,
   "metadata": {},
   "outputs": [],
   "source": [
    "\n",
    "def compute(program, in_stack, out_stack):\n",
    "    a = program.copy()\n",
    "\n",
    "    ip = 0\n",
    "    while True:\n",
    "        o = a[ip]\n",
    "        o, m = split_operator(o)\n",
    "        # print(a[ip : ip + 5])\n",
    "        if o == 99:\n",
    "            ip += 1\n",
    "            break\n",
    "        elif o == 1:\n",
    "            # add\n",
    "            x, y, n = a[ip + 1 : ip + 4]\n",
    "            x = x if m[0] else a[x]\n",
    "            y = y if m[1] else a[y]\n",
    "            ip += 4\n",
    "            a[n] = x + y\n",
    "        elif o == 2:\n",
    "            # mult\n",
    "            x, y, n = a[ip + 1 : ip + 4]\n",
    "            x = x if m[0] else a[x]\n",
    "            y = y if m[1] else a[y]\n",
    "            ip += 4\n",
    "            a[n] = x * y\n",
    "        elif o == 3:\n",
    "            # input\n",
    "            n = a[ip + 1]\n",
    "            a[n] = in_stack.pop()\n",
    "            ip += 2\n",
    "        elif o == 4:\n",
    "            # output\n",
    "            x = a[ip + 1]\n",
    "            x = x if m[0] else a[x]\n",
    "            out_stack.append(x)\n",
    "            ip += 2\n",
    "        elif o == 5:\n",
    "            # jump_if_true\n",
    "            x, y = a[ip + 1 : ip + 3]\n",
    "            x = x if m[0] else a[x]\n",
    "            y = y if m[1] else a[y]\n",
    "            if x: \n",
    "                ip = y\n",
    "            else:\n",
    "                ip += 3\n",
    "        elif o == 6:\n",
    "            # jump_if_false\n",
    "            x, y = a[ip + 1 : ip + 3]\n",
    "            x = x if m[0] else a[x]\n",
    "            y = y if m[1] else a[y]\n",
    "            if not x: \n",
    "                ip = y\n",
    "            else:\n",
    "                ip += 3\n",
    "        elif o == 7:\n",
    "            # less_than\n",
    "            x, y, n = a[ip + 1 : ip + 4]\n",
    "            x = x if m[0] else a[x]\n",
    "            y = y if m[1] else a[y]\n",
    "            if x < y: \n",
    "                a[n] = 1\n",
    "            else:\n",
    "                a[n] = 0\n",
    "            ip += 4\n",
    "        elif o == 8:\n",
    "            # equal\n",
    "            x, y, n = a[ip + 1 : ip + 4]\n",
    "            x = x if m[0] else a[x]\n",
    "            y = y if m[1] else a[y]\n",
    "            if x == y: \n",
    "                a[n] = 1\n",
    "            else:\n",
    "                a[n] = 0\n",
    "            ip += 4\n",
    "        else:\n",
    "            raise RuntimeError(o)\n"
   ]
  },
  {
   "cell_type": "code",
   "execution_count": 65,
   "metadata": {},
   "outputs": [
    {
     "data": {
      "text/plain": [
       "[14110739]"
      ]
     },
     "execution_count": 65,
     "metadata": {},
     "output_type": "execute_result"
    }
   ],
   "source": [
    "prog = load(\"05b.txt\")\n",
    "in_stack = [5]\n",
    "out_stack = []\n",
    "compute(prog, in_stack, out_stack)\n",
    "out_stack"
   ]
  },
  {
   "cell_type": "code",
   "execution_count": null,
   "metadata": {},
   "outputs": [],
   "source": []
  },
  {
   "cell_type": "code",
   "execution_count": null,
   "metadata": {},
   "outputs": [],
   "source": []
  }
 ],
 "metadata": {
  "kernelspec": {
   "display_name": "Python 3",
   "language": "python",
   "name": "python3"
  },
  "language_info": {
   "codemirror_mode": {
    "name": "ipython",
    "version": 3
   },
   "file_extension": ".py",
   "mimetype": "text/x-python",
   "name": "python",
   "nbconvert_exporter": "python",
   "pygments_lexer": "ipython3",
   "version": "3.8.0"
  }
 },
 "nbformat": 4,
 "nbformat_minor": 4
}
