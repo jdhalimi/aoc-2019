{
 "cells": [
  {
   "cell_type": "markdown",
   "metadata": {},
   "source": [
    "# Advent Of Code - 2019\n",
    "\n",
    "## --- Day 6: Universal Orbit Map ---"
   ]
  },
  {
   "cell_type": "markdown",
   "metadata": {},
   "source": [
    "You've landed at the Universal Orbit Map facility on Mercury. Because navigation in space often involves transferring between orbits, the orbit maps here are useful for finding efficient routes between, for example, you and Santa. You download a map of the local orbits (your puzzle input).\n",
    "\n",
    "Except for the universal Center of Mass (COM), every object in space is in orbit around exactly one other object. An orbit looks roughly like this:\n",
    "\n",
    "```\n",
    "                  \\\n",
    "                   \\\n",
    "                    |\n",
    "                    |\n",
    "AAA--> o            o <--BBB\n",
    "                    |\n",
    "                    |\n",
    "                   /\n",
    "                  /\n",
    "````\n",
    "                  \n",
    "In this diagram, the object BBB is in orbit around AAA. The path that BBB takes around AAA (drawn with lines) is only partly shown. In the map data, this orbital relationship is written AAA)BBB, which means \"BBB is in orbit around AAA\".\n",
    "\n",
    "Before you use your map data to plot a course, you need to make sure it wasn't corrupted during the download. To verify maps, the Universal Orbit Map facility uses orbit count checksums - the total number of direct orbits (like the one shown above) and indirect orbits.\n",
    "\n",
    "Whenever A orbits B and B orbits C, then A indirectly orbits C. This chain can be any number of objects long: if A orbits B, B orbits C, and C orbits D, then A indirectly orbits D.\n",
    "\n",
    "For example, suppose you have the following map:\n",
    "\n",
    "```\n",
    "COM)B\n",
    "B)C\n",
    "C)D\n",
    "D)E\n",
    "E)F\n",
    "B)G\n",
    "G)H\n",
    "D)I\n",
    "E)J\n",
    "J)K\n",
    "K)L\n",
    "```\n",
    "\n",
    "Visually, the above map of orbits looks like this:\n",
    "\n",
    "```\n",
    "        G - H       J - K - L\n",
    "       /           /\n",
    "COM - B - C - D - E - F\n",
    "               \\\n",
    "                I\n",
    "```\n",
    "\n",
    "In this visual representation, when two objects are connected by a line, the one on the right directly orbits the one on the left.\n",
    "\n",
    "Here, we can count the total number of orbits as follows:\n",
    "\n",
    "- D directly orbits C and indirectly orbits B and COM, a total of 3 orbits.\n",
    "- L directly orbits K and indirectly orbits J, E, D, C, B, and COM, a total of 7 orbits.\n",
    "- COM orbits nothing.\n",
    "\n",
    "\n",
    "The total number of direct and indirect orbits in this example is 42.\n",
    "\n",
    "What is the total number of direct and indirect orbits in your map data?"
   ]
  },
  {
   "cell_type": "code",
   "execution_count": 12,
   "metadata": {},
   "outputs": [],
   "source": [
    "TEST = \"\"\"\n",
    "COM)B\n",
    "B)C\n",
    "C)D\n",
    "D)E\n",
    "E)F\n",
    "B)G\n",
    "G)H\n",
    "D)I\n",
    "E)J\n",
    "J)K\n",
    "K)L\n",
    "\"\"\""
   ]
  },
  {
   "cell_type": "code",
   "execution_count": 29,
   "metadata": {},
   "outputs": [],
   "source": [
    "def load(content):\n",
    "    m = {}\n",
    "    for x in content.split('\\n'):\n",
    "        x = x.strip()\n",
    "        if x:\n",
    "            b, a = x.strip().split(')')\n",
    "            m[a] = b\n",
    "    return m\n",
    "\n",
    "def nb_orbits(m):\n",
    "    n = 0\n",
    "    for a in m:\n",
    "        x = m[a]\n",
    "        n += 1\n",
    "        while x != 'COM':\n",
    "            x = m[x]\n",
    "            n += 1\n",
    "    return n"
   ]
  },
  {
   "cell_type": "code",
   "execution_count": 31,
   "metadata": {},
   "outputs": [
    {
     "data": {
      "text/plain": [
       "42"
      ]
     },
     "execution_count": 31,
     "metadata": {},
     "output_type": "execute_result"
    }
   ],
   "source": [
    "m = load(TEST)\n",
    "nb_orbits(m)"
   ]
  },
  {
   "cell_type": "code",
   "execution_count": 32,
   "metadata": {},
   "outputs": [
    {
     "data": {
      "text/plain": [
       "278744"
      ]
     },
     "execution_count": 32,
     "metadata": {},
     "output_type": "execute_result"
    }
   ],
   "source": [
    "m = load(open(\"06a.txt\").read())\n",
    "nb_orbits(m)"
   ]
  },
  {
   "cell_type": "markdown",
   "metadata": {},
   "source": [
    "## --- Part Two ---\n",
    "\n",
    "Now, you just need to figure out how many orbital transfers you (YOU) need to take to get to Santa (SAN).\n",
    "\n",
    "You start at the object YOU are orbiting; your destination is the object SAN is orbiting. An orbital transfer lets you move from any object to an object orbiting or orbited by that object.\n",
    "\n",
    "For example, suppose you have the following map:\n",
    "\n",
    "```\n",
    "COM)B\n",
    "B)C\n",
    "C)D\n",
    "D)E\n",
    "E)F\n",
    "B)G\n",
    "G)H\n",
    "D)I\n",
    "E)J\n",
    "J)K\n",
    "K)L\n",
    "K)YOU\n",
    "I)SAN\n",
    "````\n",
    "\n",
    "Visually, the above map of orbits looks like this:\n",
    "\n",
    "```\n",
    "                          YOU\n",
    "                         /\n",
    "        G - H       J - K - L\n",
    "       /           /\n",
    "COM - B - C - D - E - F\n",
    "               \\\n",
    "                I - SAN\n",
    "```                \n",
    "    \n",
    "In this example, YOU are in orbit around K, and SAN is in orbit around I. To move from K to I, a minimum of 4 orbital transfers are required:\n",
    "\n",
    "```\n",
    "K to J\n",
    "J to E\n",
    "E to D\n",
    "D to I\n",
    "```\n",
    "\n",
    "Afterward, the map of orbits looks like this:\n",
    "\n",
    "```\n",
    "        G - H       J - K - L\n",
    "       /           /\n",
    "COM - B - C - D - E - F\n",
    "               \\\n",
    "                I - SAN\n",
    "                 \\\n",
    "                  YOU\n",
    "```\n",
    "\n",
    "What is the minimum number of orbital transfers required to move from the object YOU are orbiting to the object SAN is orbiting? (Between the objects they are orbiting - not between YOU and SAN.)"
   ]
  },
  {
   "cell_type": "code",
   "execution_count": 52,
   "metadata": {},
   "outputs": [
    {
     "data": {
      "text/plain": [
       "4"
      ]
     },
     "execution_count": 52,
     "metadata": {},
     "output_type": "execute_result"
    }
   ],
   "source": [
    "\n",
    "TEST = \"\"\"\n",
    "COM)B\n",
    "B)C\n",
    "C)D\n",
    "D)E\n",
    "E)F\n",
    "B)G\n",
    "G)H\n",
    "D)I\n",
    "E)J\n",
    "J)K\n",
    "K)L\n",
    "K)YOU\n",
    "I)SAN\n",
    "\"\"\"\n",
    "\n",
    "\n",
    "def path_to_com(m, x):\n",
    "    p = []\n",
    "    while x != 'COM':\n",
    "        x = m[x]\n",
    "        p.append(x)\n",
    "    return p\n",
    "\n",
    "\n",
    "def orbital_transfert(m, a, b):\n",
    "    you = path_to_com(m, a)\n",
    "    san = path_to_com(m, b)\n",
    "    for i, x in enumerate(you):\n",
    "        if x in san:\n",
    "            j = san.index(x)\n",
    "            break\n",
    "    return i + j\n",
    "\n",
    "orbital_transfert(load(TEST), 'YOU', 'SAN')"
   ]
  },
  {
   "cell_type": "code",
   "execution_count": 55,
   "metadata": {},
   "outputs": [
    {
     "data": {
      "text/plain": [
       "475"
      ]
     },
     "execution_count": 55,
     "metadata": {},
     "output_type": "execute_result"
    }
   ],
   "source": [
    "orbital_transfert(load(open(\"06.txt\").read()), 'YOU', 'SAN')"
   ]
  }
 ],
 "metadata": {
  "kernelspec": {
   "display_name": "Python 3",
   "language": "python",
   "name": "python3"
  },
  "language_info": {
   "codemirror_mode": {
    "name": "ipython",
    "version": 3
   },
   "file_extension": ".py",
   "mimetype": "text/x-python",
   "name": "python",
   "nbconvert_exporter": "python",
   "pygments_lexer": "ipython3",
   "version": "3.8.0"
  }
 },
 "nbformat": 4,
 "nbformat_minor": 4
}
